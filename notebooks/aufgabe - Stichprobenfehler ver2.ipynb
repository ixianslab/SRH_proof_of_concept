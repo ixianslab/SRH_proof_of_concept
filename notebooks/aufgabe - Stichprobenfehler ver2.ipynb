{
 "cells": [
  {
   "cell_type": "markdown",
   "id": "9b0e95ec",
   "metadata": {},
   "source": [
    "## Vergleich einzelne Stichprobe zu Serien von Stichproben"
   ]
  },
  {
   "cell_type": "code",
   "execution_count": 3,
   "id": "e6573a10",
   "metadata": {},
   "outputs": [
    {
     "name": "stdout",
     "output_type": "stream",
     "text": [
      "Mittelwert Grundgesamtheit: 50499.5\n",
      "Standardabweichung Grundgesamtheit : 29156.188592647017\n",
      "Sampling Error, n=10:  7246.963663663663\n",
      "Sampling Error, n=25:  4640.325225225225\n",
      "Sampling Error, n=50:  3252.8063063063064\n",
      "Sampling Error, n=100:  2344.984944944945\n",
      "Sampling Error, n=500:  1051.7372092092091\n",
      "Test\n",
      "Sampling Error, einmalige Stichprobe 750:  1161.0199999999968\n"
     ]
    }
   ],
   "source": [
    "import random\n",
    "import statistics\n",
    "import math\n",
    "pop = list(range(0,101000))\n",
    "#print(pop)\n",
    "meanpop = statistics.mean(pop)\n",
    "print(\"Mittelwert Grundgesamtheit:\" , meanpop)\n",
    "st_dev = statistics.pstdev(pop)\n",
    "print(\"Standardabweichung Grundgesamtheit :\" , st_dev)\n",
    "error_sample_10 = []\n",
    "error_sample_25 = []\n",
    "error_sample_50 = []\n",
    "error_sample_100 = []\n",
    "error_sample_500 = []\n",
    "error_sample_750 = []\n",
    "\n",
    "# we do 1000 trials\n",
    "for i in range(1,1000):\n",
    "    my_sample_10 = random.sample(pop , 10)\n",
    "    my_sample_25 = random.sample(pop , 25)\n",
    "    my_sample_50 = random.sample(pop , 50)\n",
    "    my_sample_100 = random.sample(pop , 100)\n",
    "    my_sample_500 = random.sample(pop , 500)\n",
    "    \n",
    "    mean_10 = statistics.mean(my_sample_10)\n",
    "    mean_25 = statistics.mean(my_sample_25)\n",
    "    mean_50 = statistics.mean(my_sample_50)\n",
    "    mean_100 = statistics.mean(my_sample_100)\n",
    "    mean_500 = statistics.mean(my_sample_500)\n",
    "    \n",
    "    error_sample_10.append(abs(mean_10 - meanpop))\n",
    "    error_sample_25.append(abs(mean_25 - meanpop))\n",
    "    error_sample_50.append(abs(mean_50 - meanpop))\n",
    "    error_sample_100.append(abs(mean_100 - meanpop))\n",
    "    error_sample_500.append(abs(mean_500 - meanpop))\n",
    "    \n",
    "    \n",
    "print('Sampling Error, n=10: ', statistics.mean(error_sample_10))\n",
    "print('Sampling Error, n=25: ', statistics.mean(error_sample_25))\n",
    "print('Sampling Error, n=50: ', statistics.mean(error_sample_50))\n",
    "print('Sampling Error, n=100: ', statistics.mean(error_sample_100))\n",
    "print('Sampling Error, n=500: ', statistics.mean(error_sample_500))\n",
    "print('Test')\n",
    "my_sample_750 = random.sample(pop , 750)\n",
    "mean_750 = statistics.mean(my_sample_750)\n",
    "error_sample_750 = (abs(mean_750- meanpop))\n",
    "print('Sampling Error, einmalige Stichprobe 750: ', error_sample_750)"
   ]
  },
  {
   "cell_type": "code",
   "execution_count": 4,
   "id": "7ef25746",
   "metadata": {},
   "outputs": [
    {
     "name": "stdout",
     "output_type": "stream",
     "text": [
      "Mittelwert Grundgesamtheit: 50499.5\n",
      "Standardabweichung Grundgesamtheit : 29156.188592647017\n",
      "Sampling Error, einmalige Stichprobe 750:  1650.5746666666673\n"
     ]
    }
   ],
   "source": [
    "import random\n",
    "import statistics\n",
    "import math\n",
    "pop = list(range(0,101000))\n",
    "#print(pop)\n",
    "meanpop = statistics.mean(pop)\n",
    "print(\"Mittelwert Grundgesamtheit:\" , meanpop)\n",
    "st_dev = statistics.pstdev(pop)\n",
    "print(\"Standardabweichung Grundgesamtheit :\" , st_dev)\n",
    "\n",
    "error_sample_750 = []\n",
    "\n",
    "my_sample_750 = random.sample(pop , 750)\n",
    "#print(my_sample_750)\n",
    "mean_750 = statistics.mean(my_sample_750)\n",
    "error_sample_750 = (abs(mean_750- meanpop))\n",
    "print('Sampling Error, einmalige Stichprobe 750: ', error_sample_750)"
   ]
  },
  {
   "cell_type": "code",
   "execution_count": 22,
   "id": "de2558fa",
   "metadata": {},
   "outputs": [
    {
     "name": "stdout",
     "output_type": "stream",
     "text": [
      "Mittelwert Grundegesamtheit : 3.499885\n",
      "Standardabweichung Grundegesamtheit : 1.708143432728938\n",
      "Sampling Error, n=10:  0.43183517017017015\n",
      "Sampling Error, n=25:  0.26656161661661665\n",
      "Sampling Error, n=50:  0.20292764264264268\n",
      "Sampling Error, n=100:  0.14094059559559557\n",
      "Test\n",
      "Sampling Error, einmalige Stichprobe 500:  0.012115000000000098\n"
     ]
    }
   ],
   "source": [
    "import random\n",
    "import statistics\n",
    "import math\n",
    "wuerfel = []\n",
    "\n",
    "for i in range(1000000):\n",
    "    wuerfel.append(random.randint(1,6))\n",
    "\n",
    "mean = statistics.mean(wuerfel)\n",
    "print(\"Mittelwert Grundegesamtheit :\" , mean)\n",
    "output = statistics.pstdev(wuerfel, mean)\n",
    "print(\"Standardabweichung Grundegesamtheit :\" , output)\n",
    "\n",
    "\n",
    "error_sample_10 = []\n",
    "error_sample_25 = []\n",
    "error_sample_50 = []\n",
    "error_sample_100 = []\n",
    "#error_sample_500 = []\n",
    "#error_sample_750 = []\n",
    "\n",
    "# we do 1000 trials\n",
    "for i in range(1,1000):\n",
    "    my_sample_10 = random.sample(wuerfel , 10)\n",
    "    my_sample_25 = random.sample(wuerfel , 25)\n",
    "    my_sample_50 = random.sample(wuerfel , 50)\n",
    "    my_sample_100 = random.sample(wuerfel , 100)\n",
    "    #my_sample_500 = random.sample(pop , 500)\n",
    "    \n",
    "    mean_10 = statistics.mean(my_sample_10)\n",
    "    mean_25 = statistics.mean(my_sample_25)\n",
    "    mean_50 = statistics.mean(my_sample_50)\n",
    "    mean_100 = statistics.mean(my_sample_100)\n",
    "    #mean_500 = statistics.mean(my_sample_500)\n",
    "    \n",
    "    error_sample_10.append(abs(mean_10 - mean))\n",
    "    error_sample_25.append(abs(mean_25 - mean))\n",
    "    error_sample_50.append(abs(mean_50 - mean))\n",
    "    error_sample_100.append(abs(mean_100 - mean))\n",
    "    #error_sample_500.append(abs(mean_500 - meanpop))\n",
    "    \n",
    "    \n",
    "print('Sampling Error, n=10: ', statistics.mean(error_sample_10))\n",
    "print('Sampling Error, n=25: ', statistics.mean(error_sample_25))\n",
    "print('Sampling Error, n=50: ', statistics.mean(error_sample_50))\n",
    "print('Sampling Error, n=100: ', statistics.mean(error_sample_100))\n",
    "#print('Sampling Error, n=500: ', statistics.mean(error_sample_500))\n",
    "print('Test')\n",
    "my_sample_500 = random.sample(wuerfel , 500)\n",
    "mean_500 = statistics.mean(my_sample_500)\n",
    "error_sample_500 = (abs(mean_500- mean))\n",
    "print('Sampling Error, einmalige Stichprobe 500: ', error_sample_500)\n",
    "\n",
    "\n"
   ]
  },
  {
   "cell_type": "code",
   "execution_count": 41,
   "id": "139c09ed",
   "metadata": {},
   "outputs": [
    {
     "name": "stdout",
     "output_type": "stream",
     "text": [
      "Mittelwert Grundegesamtheit : 3.500237\n",
      "Standardabweichung Grundegesamtheit : 1.7076521729646819\n",
      "mean, einmalige Stichprobe 500:  5\n",
      "Sampling Error, einmalige Stichprobe 500:  1.4997630000000002\n"
     ]
    }
   ],
   "source": [
    "import random\n",
    "import statistics\n",
    "import math\n",
    "wuerfel = []\n",
    "\n",
    "for i in range(1000000):\n",
    "    wuerfel.append(random.randint(1,6))\n",
    "\n",
    "mean = statistics.mean(wuerfel)\n",
    "print(\"Mittelwert Grundegesamtheit :\" , mean)\n",
    "output = statistics.pstdev(wuerfel, mean)\n",
    "print(\"Standardabweichung Grundegesamtheit :\" , output)\n",
    "\n",
    "error_sample_500 = []\n",
    "\n",
    "my_sample_500 = random.sample(wuerfel , 1)\n",
    "mean_500 = statistics.mean(my_sample_500)\n",
    "print('mean, einmalige Stichprobe 500: ', mean_500)\n",
    "error_sample_500 = (abs(mean_500- mean))\n",
    "print('Sampling Error, einmalige Stichprobe 500: ', error_sample_500)"
   ]
  },
  {
   "cell_type": "code",
   "execution_count": null,
   "id": "0e804d20",
   "metadata": {},
   "outputs": [],
   "source": []
  }
 ],
 "metadata": {
  "kernelspec": {
   "display_name": "Python 3 (ipykernel)",
   "language": "python",
   "name": "python3"
  },
  "language_info": {
   "codemirror_mode": {
    "name": "ipython",
    "version": 3
   },
   "file_extension": ".py",
   "mimetype": "text/x-python",
   "name": "python",
   "nbconvert_exporter": "python",
   "pygments_lexer": "ipython3",
   "version": "3.9.7"
  }
 },
 "nbformat": 4,
 "nbformat_minor": 5
}
