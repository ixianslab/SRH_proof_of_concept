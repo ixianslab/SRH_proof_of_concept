{
 "cells": [
  {
   "cell_type": "markdown",
   "id": "b71b1359",
   "metadata": {},
   "source": [
    "## Aufgabe Konfidenzintervall : 68-95-99,7 Regel : \n",
    "Bei der Auswertung einer Messreihe von 50 normalverteilten Werten ( einmalige Stichprobe mit Umfang 50) erhalten wir den Stichprobenmittelwert $\\mu_{\\bar{x}} = 0.4315 $ und die Standardabweichung des Mittelwerts $\\sigma_{\\bar{x}} = 0.012$   . <br>\n",
    "Um wieviele muss die Zahl der Messungen erhöht werden um den Messwert mit 95% auf eine bestimmte Anzahl $m$ Dezimalstellen zu bestimmen ? <br> Hinweis verwenden Sie die Relation $ \\sigma_{\\bar{x}}^2 = \\frac{\\sigma^2}{n} $"
   ]
  },
  {
   "cell_type": "markdown",
   "id": "6a74c59d-bdeb-4e10-bad7-13af0ef6dc52",
   "metadata": {},
   "source": [
    "## Lösung :"
   ]
  },
  {
   "cell_type": "markdown",
   "id": "dc241c46-2cf5-4d79-8ecb-b3ca22be121a",
   "metadata": {},
   "source": [
    "Wir erinnern uns an die 68-95-99,7 Regel. Für die Normalverteilung liegen 68% aller Werte im Konfidenzintervall $ \\mu \\pm \\sigma $ , 95% im Intervall $ \\mu \\pm 2 \\sigma $ und 99.7 im Intervall $ \\mu \\pm 3 \\sigma $ . <br> Wir müssen die Bedingung $2 \\sigma \\le 10^{-m}$ erfüllen um 95% aller Werte zu erfassen. <br> Daher gilt : $\\sigma \\le \\frac{10^{-m}}{2} $ $$ \\sigma_{\\bar{x}}^2 = \\frac{\\sigma^2}{n} $$ <br> bzw <br> $$ n  = (\\frac{\\sigma_{\\bar{x}}}{\\sigma})^2 = (\\frac{0.012}{\\frac{10^{-m}}{2}})^2  $$ <br> $\\sigma^2 \\dots \\text{Stichprobenvarianz}$   <br> $\\sigma_{\\bar{x}}^2 \\dots \\text{Varianz des Stichprobenmittels}$"
   ]
  },
  {
   "cell_type": "code",
   "execution_count": 29,
   "id": "7ab6a82b-2209-4666-9bea-f420c5dfacb1",
   "metadata": {},
   "outputs": [
    {
     "name": "stdin",
     "output_type": "stream",
     "text": [
      "Anzahl der Dezimalstellen 5\n"
     ]
    },
    {
     "name": "stdout",
     "output_type": "stream",
     "text": [
      "120000.0\n",
      "Messungen notwendig\n"
     ]
    }
   ],
   "source": [
    "m = input ( 'Anzahl der Dezimalstellen' )\n",
    "m = int(m)\n",
    "n = ((0.012) / ((10**(-m))/2))\n",
    "print(n * 50) \n",
    "print('Messungen notwendig')"
   ]
  },
  {
   "cell_type": "code",
   "execution_count": 67,
   "id": "694f118a-16f3-4eed-b34a-cf3c6af8c3b1",
   "metadata": {},
   "outputs": [
    {
     "name": "stdout",
     "output_type": "stream",
     "text": [
      "1-D array : [10, 20, 30]\n",
      "Standard Deviation of arr is  8.16496580927726\n"
     ]
    }
   ],
   "source": [
    "import numpy as np\n",
    "\n",
    "arr = [10, 20, 30]\n",
    "print(\"1-D array :\", arr)\n",
    "print(\"Standard Deviation of arr is \", np.std(arr))\n"
   ]
  },
  {
   "cell_type": "code",
   "execution_count": null,
   "id": "896cae03-bcc4-4f2e-b343-03f3693c5eca",
   "metadata": {},
   "outputs": [],
   "source": []
  }
 ],
 "metadata": {
  "kernelspec": {
   "display_name": "Python 3 (ipykernel)",
   "language": "python",
   "name": "python3"
  },
  "language_info": {
   "codemirror_mode": {
    "name": "ipython",
    "version": 3
   },
   "file_extension": ".py",
   "mimetype": "text/x-python",
   "name": "python",
   "nbconvert_exporter": "python",
   "pygments_lexer": "ipython3",
   "version": "3.9.7"
  }
 },
 "nbformat": 4,
 "nbformat_minor": 5
}
