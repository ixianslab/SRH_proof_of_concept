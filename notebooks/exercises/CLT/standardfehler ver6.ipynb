{
 "cells": [
  {
   "cell_type": "markdown",
   "id": "a2ae8c4a-d127-4628-9f0b-f156355b2389",
   "metadata": {},
   "source": [
    "## Aufgabe - Standardfehler\n",
    "Nehmen Sie aus den gegebenen Messdaten des stündlichen und täglichen Temperaturmittels in Berlin für den Zeitraum (17.02.22 bis 3.03.22) jeweils Mittelwert $\\mu$ und Standardabweichung $\\sigma$. Berechnen Sie den Standardfehler für 10 Stichproben der Grösse $n=15$ und $n=100$ aus der Standardabweichung der Mittelwerte der einzelnen Stichproben. Vergleichen Sie den empirisch bestimmten Standardfehler mit dem Wert der Schätzfunktion von $\\sigma_{\\bar{x}}$ <br> <br> &nbsp; *Hinweis*: Beachten Sie jeweils $\\frac{n}{N}$     ,      $ n \\dots \\text{Grösse der Stichprobe}$ $N \\dots \\text{Anzahl der Messwerte} $."
   ]
  },
  {
   "cell_type": "markdown",
   "id": "94de9e41-24de-4b9c-83ad-4a765df427a5",
   "metadata": {},
   "source": [
    "## Lösung :"
   ]
  },
  {
   "cell_type": "code",
   "execution_count": 34,
   "id": "d6a0a4b4-31e3-4c60-b787-8b53ffd1cdc2",
   "metadata": {},
   "outputs": [
    {
     "name": "stdout",
     "output_type": "stream",
     "text": [
      "N = 360\n",
      "Mittelwert der Grundgesamtheit\n",
      "4.405905298606944\n",
      "Standardabweichung der Grundgesamtheit\n",
      "2.8877334482551538\n",
      "---------------------------------------------------\n",
      "---------------------------------------------------\n",
      "Stichprobe mit Umfang n = 100\n",
      "n/N = 0.2777777777777778 > 0.05\n",
      "Standardabweichung für tägliches Temperaturmittel aus Stichprobe : 0.24195102242783223\n",
      "Standardabweichung für tägliches Temperaturmittel aus Schätzfunktion : 0.24575171256028394\n",
      "---------------------------------------------------\n",
      "---------------------------------------------------\n",
      "Stichprobe mit Umfang n = 15\n",
      "n/N = 0.041666666666666664 < 0.05\n",
      "Standardabweichung für stündliches Temperaturmittel aus Stichprobe : 0.7503332100843949\n",
      "Standardabweichung für stündliches Temperaturmittel aus Schätzfunktion : 0.7456095702252218\n",
      "---------------------------------------------------\n",
      "---------------------------------------------------\n"
     ]
    }
   ],
   "source": [
    "import csv\n",
    "import numpy as np\n",
    "data1 = []\n",
    "flat_list1 = []\n",
    "tmwsberlin_sample_15 = []\n",
    "tmwsberlin_sample_100 = []\n",
    "a=[]\n",
    "b=[]\n",
    "#### Quelle:https://www.meteoblue.com/de/wetter/archive/export/berlin_deutschland_2950159?daterange=2022-02-17%20-%202022-03-03&domain=NEMSAUTO&min=2022-02-17&max=2022-03-03&params%5B%5D=&params%5B%5D=temp2m&params%5B%5D=&params%5B%5D=&params%5B%5D=&params%5B%5D=&params%5B%5D=&params%5B%5D=&utc_offset=1&timeResolution=hourly&temperatureunit=CELSIUS&velocityunit=KILOMETER_PER_HOUR&energyunit=watts&lengthunit=metric&degree_day_type=10%3B30&gddBase=10&gddLimit=30\n",
    "#### Dateneinlesen\n",
    "\n",
    "#######################################\n",
    "\n",
    "with open('tmwsberlin.csv') as csvdatei:\n",
    "    csv_reader_object = csv.reader(csvdatei, delimiter=',')\n",
    "    for row in csv_reader_object:\n",
    "       data1.append(row)\n",
    "   \n",
    "#######################################\n",
    "### zu kompliziert?!    \n",
    "###Uwandlung Liste von Listen in Liste        \n",
    "\n",
    "# iterating over the data\n",
    "for item in data1:\n",
    "    # appending elements to the flat_list\n",
    "    flat_list1 += item\n",
    "\n",
    "# printing the resultant flat_list\n",
    "\n",
    "###Umwandlung von string in float\n",
    "float_list1 = list(map(float, flat_list1))\n",
    "#######################################\n",
    "\n",
    "mean1 = np.mean(float_list1)\n",
    "std1 = np.std(float_list1)\n",
    "anzahl1 = len(float_list1)\n",
    "\n",
    "### entnehmen von 1 Stichproben vom Umfang n=5 aus beiden Messreihen\n",
    "for i in range(1,10):\n",
    "    tmwsberlin_sample_100 = np.random.choice(float_list1 , size=100)\n",
    "    tmwsberlin_sample_15 = np.random.choice(float_list1 , size=15)\n",
    "    mean_100=np.mean(tmwsberlin_sample_100)\n",
    "    mean_15=np.mean(tmwsberlin_sample_15)\n",
    "    a.append(mean_100)\n",
    "    b.append(mean_15)\n",
    "\n",
    "std_tmwsberlin_sample_100 = np.std(a)\n",
    "std_tmwsberlin_sample_15 = np.std(b)\n",
    "\n",
    "print('N =',anzahl1)\n",
    "print('Mittelwert der Grundgesamtheit')\n",
    "print(mean1)\n",
    "print('Standardabweichung der Grundgesamtheit')\n",
    "print(std1)\n",
    "print('---------------------------------------------------')\n",
    "print('---------------------------------------------------')\n",
    "print('Stichprobe mit Umfang n = 100')\n",
    "print('n/N =', 100/anzahl2, '> 0.05')\n",
    "print('Standardabweichung für tägliches Temperaturmittel aus Stichprobe :' , std_tmwsberlin_sample_100)\n",
    "print('Standardabweichung für tägliches Temperaturmittel aus Schätzfunktion :' , (std2/((100)**(1/2)))*((anzahl2-100)/(anzahl2-1))**(1/2))\n",
    "print('---------------------------------------------------')\n",
    "print('---------------------------------------------------')\n",
    "print('Stichprobe mit Umfang n = 15')\n",
    "print('n/N =', 15/anzahl2, '< 0.05')\n",
    "print('Standardabweichung für stündliches Temperaturmittel aus Stichprobe :' , std_tmwsberlin_sample_15)\n",
    "print('Standardabweichung für stündliches Temperaturmittel aus Schätzfunktion :' , (std2/((15)**(1/2))))\n",
    "print('---------------------------------------------------')\n",
    "print('---------------------------------------------------')\n"
   ]
  },
  {
   "cell_type": "code",
   "execution_count": null,
   "id": "2693791e-5313-4ee4-9239-99804200f33a",
   "metadata": {},
   "outputs": [],
   "source": []
  }
 ],
 "metadata": {
  "kernelspec": {
   "display_name": "Python 3 (ipykernel)",
   "language": "python",
   "name": "python3"
  },
  "language_info": {
   "codemirror_mode": {
    "name": "ipython",
    "version": 3
   },
   "file_extension": ".py",
   "mimetype": "text/x-python",
   "name": "python",
   "nbconvert_exporter": "python",
   "pygments_lexer": "ipython3",
   "version": "3.9.7"
  }
 },
 "nbformat": 4,
 "nbformat_minor": 5
}
