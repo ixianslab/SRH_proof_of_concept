{
 "cells": [
  {
   "cell_type": "markdown",
   "id": "ff2355f7",
   "metadata": {},
   "source": [
    "## Prüfungsfrage :\n",
    "Welche Bedingung müssen die Zufallsvariablen $X_{1},X_{2}\\dots,X_{n} $ erfüllen damit der zentrale Grenzwertsatz angewendet werden kann ?"
   ]
  },
  {
   "cell_type": "markdown",
   "id": "5d248831",
   "metadata": {},
   "source": [
    "## Lösung:\n",
    "Die Zufallsvariablen müssen unabhängig und identisch verteilt sein. Der Erwartungswert $\\mu$ und die Standardabweichung $\\sigma$ müssen existieren , endlich sein und der gleichen Verteilung folgen. Zwei Zufallsvariablen $X_1$ , $X_2$ die Elemente der Ereignisräume $X_1 \\in B_1$ , $X_2 \\in B_2$ sind, sind unabhängig wenn für die Wahrscheinlichkeit ihres Eintretens $P(X_1 \\in B_1 , X_2 \\in B_2) = P(X_1 \\in B_1) \\cdot P(X_2 \\in B_2)$ gilt."
   ]
  }
 ],
 "metadata": {
  "kernelspec": {
   "display_name": "Python 3 (ipykernel)",
   "language": "python",
   "name": "python3"
  },
  "language_info": {
   "codemirror_mode": {
    "name": "ipython",
    "version": 3
   },
   "file_extension": ".py",
   "mimetype": "text/x-python",
   "name": "python",
   "nbconvert_exporter": "python",
   "pygments_lexer": "ipython3",
   "version": "3.10.0"
  }
 },
 "nbformat": 4,
 "nbformat_minor": 5
}
