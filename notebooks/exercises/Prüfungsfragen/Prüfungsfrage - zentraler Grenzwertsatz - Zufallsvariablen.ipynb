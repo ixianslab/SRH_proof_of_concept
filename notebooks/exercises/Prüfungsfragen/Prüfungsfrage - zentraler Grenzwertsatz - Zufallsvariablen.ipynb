{
 "cells": [
  {
   "cell_type": "markdown",
   "id": "cdac526b",
   "metadata": {},
   "source": [
    "## Prüfungsfrage :\n",
    "Welche Bedingung müssen die Zufallsvariablen $X_{1},X_{2}\\dots,X_{n} $ erfüllen damit der zentrale Grenzwertsatz angewendet werden kann ?"
   ]
  },
  {
   "cell_type": "markdown",
   "id": "39dbb22c",
   "metadata": {},
   "source": [
    "## Lösung:\n",
    "Die Zufallsvariablen müssen unabhängig und identisch verteilt sein. Erwartungswert $\\mu$ und Standardabweichung $\\sigma$ müssen existieren und endlich sein. Zwei Zufallsvariablen $X_1$ , $X_2$ die Elemente der Ereignisräume $X_1 \\in B_1$ , $X_2 \\in B_2$ sind, sind unabhängig wenn für die Wahrscheinlichkeiten gilt $P(X_1 \\in B_1 , X_2 \\in B_2) = P(X_1 \\in B_1) \\cdot P(X_2 \\in B_2)$"
   ]
  },
  {
   "cell_type": "code",
   "execution_count": null,
   "id": "29e87ca1",
   "metadata": {},
   "outputs": [],
   "source": []
  }
 ],
 "metadata": {
  "kernelspec": {
   "display_name": "Python 3 (ipykernel)",
   "language": "python",
   "name": "python3"
  },
  "language_info": {
   "codemirror_mode": {
    "name": "ipython",
    "version": 3
   },
   "file_extension": ".py",
   "mimetype": "text/x-python",
   "name": "python",
   "nbconvert_exporter": "python",
   "pygments_lexer": "ipython3",
   "version": "3.10.0"
  }
 },
 "nbformat": 4,
 "nbformat_minor": 5
}
