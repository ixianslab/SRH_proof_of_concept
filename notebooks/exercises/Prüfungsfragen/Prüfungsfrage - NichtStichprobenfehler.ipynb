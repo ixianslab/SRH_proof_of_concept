{
 "cells": [
  {
   "cell_type": "markdown",
   "id": "0036dd27",
   "metadata": {},
   "source": [
    "## Prüfungsfrage : Nicht-Stichprobenfehler\n",
    "Erklären Sie Nicht-Stichprobenfehler. Nennen Sie Beispiele."
   ]
  },
  {
   "cell_type": "markdown",
   "id": "672383f2",
   "metadata": {},
   "source": [
    "## Lösung :\n",
    "Nicht-Stichprobenfehler sind Fehler die sich nicht auf die ausgewählte Stichprobe zurückführen lassen. \n",
    "<br> Man unterscheidet statistische und systematische Nicht-Stichprobenfehler : \n",
    "\n",
    "Statistische Nicht-Stichprobenfehler sind Schwankungen in den zu bestimmenden Grössen zB : normalverteilte Schwankungen in Meßwerten oder Fehler in der Datenerhebung. <br> Systematische Stichprobenfehler ergeben sich durch Fehler in der Meßmethode (Falsch geeichte Meßinstrumente , unberücksichtigte Effekte <br> zB : Magnetfeld , Reibung , etc). Systemtische Fehler führen zu einer gerichteten Über oder Unterschätzung des wahren Wertes. Im Unterschied zum Stichprobenfehler verbessert sich der Nicht-Stichprobenfehler nicht mit Erhöhung des Stichprobenumfangs."
   ]
  }
 ],
 "metadata": {
  "kernelspec": {
   "display_name": "Python 3 (ipykernel)",
   "language": "python",
   "name": "python3"
  },
  "language_info": {
   "codemirror_mode": {
    "name": "ipython",
    "version": 3
   },
   "file_extension": ".py",
   "mimetype": "text/x-python",
   "name": "python",
   "nbconvert_exporter": "python",
   "pygments_lexer": "ipython3",
   "version": "3.10.0"
  }
 },
 "nbformat": 4,
 "nbformat_minor": 5
}
