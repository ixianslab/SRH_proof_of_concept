{
 "cells": [
  {
   "cell_type": "markdown",
   "id": "13e5e63e-51a4-4f5f-b851-05dd4563a336",
   "metadata": {
    "tags": []
   },
   "source": [
    "## Prüfungsfrage: Stichprobenmittelwert\n",
    "Berechnen Sie den Mittelwert aller möglichen Stichproben aus {$A,B,C$}. Für die Werte $A=1$ , $B=2$ , $C=3$. Vergleichen Sie das Ergebnis mit dem Mittelwert der Grundgesamtheit. Begründen Sie anhand des Ergebnisses die Konvergenz von $\\mu \\rightarrow \\mu_{\\bar{x}}$"
   ]
  },
  {
   "cell_type": "code",
   "execution_count": 16,
   "id": "c3fa2e17-f123-4137-b31b-61dfcc472ded",
   "metadata": {},
   "outputs": [
    {
     "name": "stdout",
     "output_type": "stream",
     "text": [
      "Mittelwert :  2.0\n",
      "Mittelwert :  2.0\n"
     ]
    }
   ],
   "source": [
    "import numpy as np\n",
    "A=1\n",
    "B=2\n",
    "C=3\n",
    "werte=[A,B,C]\n",
    "mean = np.mean(werte)\n",
    "stdev = np.std(werte)\n",
    "print('Mittelwert : ', mean)\n",
    "\n",
    "#### alle möglichen Stichproben\n",
    "AB= [1,2]\n",
    "AC= [1,3]\n",
    "BC= [2,3]\n",
    "stichproben = [np.mean(AB),np.mean(AC),np.mean(BC)]\n",
    "mean_stichproben = np.mean(stichproben)\n",
    "stdev_stichproben = np.std(stichproben)\n",
    "print('Mittelwert : ', mean_stichproben)\n",
    "\n",
    "###Antwort:\n",
    "###((a+b)+(a+c)+(b+c))/(2*3)= (2*a+2*b+2*c)/(2*3)=(a+b+c)/3\n"
   ]
  }
 ],
 "metadata": {
  "kernelspec": {
   "display_name": "Python 3 (ipykernel)",
   "language": "python",
   "name": "python3"
  },
  "language_info": {
   "codemirror_mode": {
    "name": "ipython",
    "version": 3
   },
   "file_extension": ".py",
   "mimetype": "text/x-python",
   "name": "python",
   "nbconvert_exporter": "python",
   "pygments_lexer": "ipython3",
   "version": "3.9.7"
  }
 },
 "nbformat": 4,
 "nbformat_minor": 5
}
