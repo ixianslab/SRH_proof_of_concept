{
 "cells": [
  {
   "cell_type": "code",
   "execution_count": 2,
   "id": "3a272b6c-63e9-473b-955a-84c2a206c8b2",
   "metadata": {},
   "outputs": [
    {
     "name": "stdout",
     "output_type": "stream",
     "text": [
      "Mittelwert Grundgesamtheit: 5049.5\n",
      "Standardabweichung Grundgesamtheit : 2915.618845116762\n",
      "Sampling Error, n=10:  732.1558558558559\n",
      "Sampling Error, n=25:  452.96014014014014\n",
      "Sampling Error, n=50:  329.99399399399397\n",
      "Sampling Error, n=100:  244.76571571571571\n",
      "Sampling Error, n=500:  102.92845045045044\n",
      "Sampling Error, einmalige Stichprobe 750:  147.10133333333306\n"
     ]
    }
   ],
   "source": [
    "import random\n",
    "import numpy as np\n",
    "import statistics\n",
    "import math\n",
    "pop = list(range(0,10100))\n",
    "#print(pop)\n",
    "meanpop = np.mean(pop)\n",
    "print(\"Mittelwert Grundgesamtheit:\" , meanpop)\n",
    "st_dev = np.std(pop)\n",
    "print(\"Standardabweichung Grundgesamtheit :\" , st_dev)\n",
    "error_sample_10 = []\n",
    "error_sample_25 = []\n",
    "error_sample_50 = []\n",
    "error_sample_100 = []\n",
    "error_sample_500 = []\n",
    "error_sample_750 = []\n",
    "\n",
    "# we do 1000 trials\n",
    "for i in range(1,1000):\n",
    "    my_sample_10 = np.random.choice(pop , size=10)\n",
    "    my_sample_25 = np.random.choice(pop , size=25)\n",
    "    my_sample_50 = np.random.choice(pop , size=50)\n",
    "    my_sample_100 = np.random.choice(pop , size=100)\n",
    "    my_sample_500 = np.random.choice(pop , size=500)\n",
    "    \n",
    "    mean_10 = np.mean(my_sample_10)\n",
    "    mean_25 = np.mean(my_sample_25)\n",
    "    mean_50 = np.mean(my_sample_50)\n",
    "    mean_100 = np.mean(my_sample_100)\n",
    "    mean_500 = np.mean(my_sample_500)\n",
    "    \n",
    "    error_sample_10.append(abs(mean_10 - meanpop))\n",
    "    error_sample_25.append(abs(mean_25 - meanpop))\n",
    "    error_sample_50.append(abs(mean_50 - meanpop))\n",
    "    error_sample_100.append(abs(mean_100 - meanpop))\n",
    "    error_sample_500.append(abs(mean_500 - meanpop))\n",
    "    \n",
    "    \n",
    "print('Sampling Error, n=10: ', np.mean(error_sample_10))\n",
    "print('Sampling Error, n=25: ', np.mean(error_sample_25))\n",
    "print('Sampling Error, n=50: ', np.mean(error_sample_50))\n",
    "print('Sampling Error, n=100: ', np.mean(error_sample_100))\n",
    "print('Sampling Error, n=500: ', np.mean(error_sample_500))\n",
    "\n",
    "my_sample_750 = np.random.choice(pop , 750)\n",
    "mean_750 = np.mean(my_sample_750)\n",
    "error_sample_750 = (abs(mean_750- meanpop))\n",
    "print('Sampling Error, einmalige Stichprobe 750: ', error_sample_750)\n",
    "\n"
   ]
  },
  {
   "cell_type": "code",
   "execution_count": null,
   "id": "7d42fe8f-3436-4e5f-a531-7fbb63b28fac",
   "metadata": {},
   "outputs": [],
   "source": []
  }
 ],
 "metadata": {
  "kernelspec": {
   "display_name": "Python 3 (ipykernel)",
   "language": "python",
   "name": "python3"
  },
  "language_info": {
   "codemirror_mode": {
    "name": "ipython",
    "version": 3
   },
   "file_extension": ".py",
   "mimetype": "text/x-python",
   "name": "python",
   "nbconvert_exporter": "python",
   "pygments_lexer": "ipython3",
   "version": "3.9.7"
  }
 },
 "nbformat": 4,
 "nbformat_minor": 5
}
