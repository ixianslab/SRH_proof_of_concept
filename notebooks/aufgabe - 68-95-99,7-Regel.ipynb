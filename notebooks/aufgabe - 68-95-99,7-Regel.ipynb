{
 "cells": [
  {
   "cell_type": "markdown",
   "id": "a2719580",
   "metadata": {},
   "source": [
    "Aufgabe: Zeigen Sie in Python das die Schätzfunktion des Stichprobenmittelwerts Stichprobenvarianz"
   ]
  },
  {
   "cell_type": "code",
   "execution_count": 66,
   "id": "3affef37",
   "metadata": {},
   "outputs": [
    {
     "name": "stdout",
     "output_type": "stream",
     "text": [
      "% Würfel [4, 1, 3]\n",
      "Mittelwert : 2.6666666666666665\n",
      "Varianz : 2.3333333333333335\n"
     ]
    }
   ],
   "source": [
    "import random\n",
    "import statistics\n",
    "a = []\n",
    "\n",
    "for i in range(3):\n",
    "    a.append(random.randint(1,6))\n",
    "   \n",
    "print(\"% Würfel\" , a)\n",
    "\n",
    "mean = statistics.mean(a)\n",
    "print(\"Mittelwert :\" , mean)\n",
    "output = statistics.variance(a, mean)\n",
    "print(\"Varianz :\" , output)"
   ]
  },
  {
   "cell_type": "code",
   "execution_count": 59,
   "id": "ec908530",
   "metadata": {},
   "outputs": [
    {
     "name": "stdout",
     "output_type": "stream",
     "text": [
      "Random sample, N = 5 : [4, 4, 6]\n"
     ]
    }
   ],
   "source": [
    "print(\"Random sample, N = 5 :\", random.sample(a, 3))"
   ]
  },
  {
   "cell_type": "markdown",
   "id": "2467873b",
   "metadata": {},
   "source": [
    "### "
   ]
  },
  {
   "cell_type": "code",
   "execution_count": 67,
   "id": "1615bee9",
   "metadata": {},
   "outputs": [
    {
     "name": "stdout",
     "output_type": "stream",
     "text": [
      "Mittelwert : 2.3283333333333336\n",
      "Varianz : 0.0861766666666667\n"
     ]
    }
   ],
   "source": [
    "import random\n",
    "import statistics\n",
    "a = [2.43,2.37,2.06,2.71,2.49,1.91]\n",
    "\n",
    "\n",
    "\n",
    "mean = statistics.mean(a)\n",
    "print(\"Mittelwert :\" , mean)\n",
    "output = statistics.variance(a, mean)\n",
    "print(\"Varianz :\" , output)"
   ]
  },
  {
   "cell_type": "markdown",
   "id": "b71b1359",
   "metadata": {},
   "source": [
    "Aufgabe 2 : Bei der Auswertung einer Messreihe von 50 Werten ( einmalige Stichprobe mit Umfang 50) erhalten wir den Stichprobenmittelwert $\\mu_{\\bar{x}}$ = und die Standardabweichung des Mittelwerts $\\sigma{\\bar{x}}$ =  . <br>\n",
    "Um wieviele muss die Anzahl der Messungen erhöht werden um den Messwert mit 95% auf 3 Dezimalstellen zu bestimmen ?"
   ]
  },
  {
   "cell_type": "code",
   "execution_count": null,
   "id": "74bb2e2a",
   "metadata": {},
   "outputs": [
    {
     "name": "stdout",
     "output_type": "stream",
     "text": [
      "Mittelwert Grundgesamtheit: 50499.5\n",
      "Standardabweichung Grundgesamtheit : 29156.188592647017\n"
     ]
    }
   ],
   "source": [
    "import random\n",
    "import numpy as np\n",
    "import statistics\n",
    "import math\n",
    "pop = list(range(0,101000))\n",
    "#print(pop)\n",
    "meanpop = np.mean(pop)\n",
    "print(\"Mittelwert Grundgesamtheit:\" , meanpop)\n",
    "st_dev = np.std(pop)\n",
    "print(\"Standardabweichung Grundgesamtheit :\" , st_dev)\n",
    "error_sample_10 = []\n",
    "error_sample_25 = []\n",
    "error_sample_50 = []\n",
    "error_sample_100 = []\n",
    "error_sample_500 = []\n",
    "error_sample_750 = []\n",
    "\n",
    "# we do 1000 trials\n",
    "for i in range(1,1000):\n",
    "    my_sample_10 = np.random.choice(pop , size=10)\n",
    "    my_sample_25 = np.random.choice(pop , size=25)\n",
    "    my_sample_50 = np.random.choice(pop , size=50)\n",
    "    my_sample_100 = np.random.choice(pop , size=100)\n",
    "    my_sample_500 = np.random.choice(pop , size=500)\n",
    "    \n",
    "    mean_10 = np.mean(my_sample_10)\n",
    "    mean_25 = np.mean(my_sample_25)\n",
    "    mean_50 = np.mean(my_sample_50)\n",
    "    mean_100 = np.mean(my_sample_100)\n",
    "    mean_500 = np.mean(my_sample_500)\n",
    "    \n",
    "    error_sample_10.append(abs(mean_10 - meanpop))\n",
    "    error_sample_25.append(abs(mean_25 - meanpop))\n",
    "    error_sample_50.append(abs(mean_50 - meanpop))\n",
    "    error_sample_100.append(abs(mean_100 - meanpop))\n",
    "    error_sample_500.append(abs(mean_500 - meanpop))\n",
    "    \n",
    "    #print(error_sample_500)\n",
    "print('Sampling Error, n=10: ', np.mean(error_sample_10))\n",
    "print('Sampling Error, n=25: ', np.mean(error_sample_25))\n",
    "print('Sampling Error, n=50: ', np.mean(error_sample_50))\n",
    "print('Sampling Error, n=100: ', np.mean(error_sample_100))\n",
    "print('Sampling Error, n=500: ', np.mean(error_sample_500))\n",
    "\n",
    "my_sample_750 = np.random.choice(pop , 750)\n",
    "mean_750 = np.mean(my_sample_750)\n",
    "error_sample_750 = (abs(mean_750- meanpop))\n",
    "print('Sampling Error, einmalige Stichprobe 750: ', error_sample_750)\n",
    "\n"
   ]
  },
  {
   "cell_type": "code",
   "execution_count": null,
   "id": "742f6953",
   "metadata": {},
   "outputs": [],
   "source": [
    "import random\n",
    "import statistics\n",
    "import math\n",
    "pop = list(range(0,101000))\n",
    "#print(pop)\n",
    "meanpop = statistics.mean(pop)\n",
    "print(\"Mittelwert Grundgesamtheit:\" , meanpop)\n",
    "st_dev = statistics.pstdev(pop)\n",
    "print(\"Standardabweichung Grundgesamtheit :\" , st_dev)\n",
    "\n",
    "error_sample_750 = []\n",
    "\n",
    "my_sample_750 = random.sample(pop , 750)\n",
    "#print(my_sample_750)\n",
    "mean_750 = statistics.mean(my_sample_750)\n",
    "#print(mean_750)\n",
    "error_sample_750 = (abs(mean_750- meanpop))\n",
    "print('Sampling Error, einmalige Stichprobe 750: ', error_sample_750)\n",
    "\n"
   ]
  },
  {
   "cell_type": "code",
   "execution_count": null,
   "id": "9e86e1fb",
   "metadata": {},
   "outputs": [],
   "source": []
  },
  {
   "cell_type": "code",
   "execution_count": null,
   "id": "429e72e9",
   "metadata": {},
   "outputs": [],
   "source": []
  }
 ],
 "metadata": {
  "kernelspec": {
   "display_name": "Python 3 (ipykernel)",
   "language": "python",
   "name": "python3"
  },
  "language_info": {
   "codemirror_mode": {
    "name": "ipython",
    "version": 3
   },
   "file_extension": ".py",
   "mimetype": "text/x-python",
   "name": "python",
   "nbconvert_exporter": "python",
   "pygments_lexer": "ipython3",
   "version": "3.9.7"
  }
 },
 "nbformat": 4,
 "nbformat_minor": 5
}
