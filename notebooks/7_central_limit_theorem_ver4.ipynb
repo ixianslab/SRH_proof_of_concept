{
 "cells": [
  {
   "cell_type": "code",
   "execution_count": 1,
   "metadata": {},
   "outputs": [
    {
     "name": "stdout",
     "output_type": "stream",
     "text": [
      "\n",
      "---------------------------------\n",
      "Working on the host: DESKTOP-I5DK50I\n",
      "\n",
      "---------------------------------\n",
      "Python version: 3.9.7 (default, Sep 16 2021, 16:59:28) [MSC v.1916 64 bit (AMD64)]\n",
      "\n",
      "---------------------------------\n",
      "Python interpreter: C:\\Users\\joe\\anaconda3\\python.exe\n",
      "\n",
      "---------------------------------\n",
      "Root (ROOT) directory is set to C:\\Users\\joe\\srh\n"
     ]
    }
   ],
   "source": [
    "%matplotlib inline\n",
    "# Load the \"autoreload\" extension\n",
    "%load_ext autoreload\n",
    "# always reload modules\n",
    "%autoreload 2\n",
    "# black formatter for jupyter notebooks \n",
    "#%load_ext nb_black\n",
    "# black formatter for jupyter lab\n",
    "#%load_ext lab_black\n",
    "\n",
    "%run ../src/notebook_env.py"
   ]
  },
  {
   "cell_type": "markdown",
   "metadata": {},
   "source": [
    "# Der zentrale Grenzwertsatz"
   ]
  },
  {
   "cell_type": "markdown",
   "metadata": {},
   "source": [
    "**Importiere Module**"
   ]
  },
  {
   "cell_type": "code",
   "execution_count": 2,
   "metadata": {},
   "outputs": [],
   "source": [
    "import math\n",
    "import numpy as np\n",
    "import pandas as pd\n",
    "import seaborn as sns\n",
    "import matplotlib.pyplot as plt"
   ]
  },
  {
   "cell_type": "markdown",
   "metadata": {},
   "source": [
    "Der **<a href=\"https://de.wikipedia.org/wiki/Zentraler_Grenzwertsatz\">zentrale Grenzwertsatz</a>** ist eines der nützlichsten Konzepte der Statistik. Bei diesem Theorem geht es um die Ziehung von Stichproben einer endlichen Größe $n$ aus einer Grundgesamtheit. Das Theorem besagt, dass, wenn man Stichproben mit einem ausreichend großen Stichprobenumfang $n$ sammelt und den Mittelwert (oder die Summe) jeder Stichprobe berechnet, die Form des Histogramms dieser Mittelwerte (oder Summen) sich einer Gauß-Verteilung annähert. Die Nützlichkeit des zentralen Grenzwertsatzes ergibt sich aus der Tatsache, dass **die Verteilung der Stichprobenmittelwerte und -summen unabhängig von der Verteilung der ursprünglichen Verteilung der Zufallsvariablen der Normalverteilung folgt**."
   ]
  },
  {
   "cell_type": "markdown",
   "metadata": {},
   "source": [
    "## Die Grundgesamtheitsverteilung\n",
    "\n",
    "Die **Grundgesamtheitsverteilung** ist die Wahrscheinlichkeitsverteilung, die sich aus der Kenntnis aller Elemente einer Grundgesamtheit ergibt <em>(Mann 2012)</em>. Wir wissen, dass die interessierende Zufallsvariable je nach der betrachteten Grundgesamtheit eine diskrete Variable sein kann, d. h. eine Variable, die zumindest im Prinzip abzählbar ist (abzählbar unendlich), oder die Zufallsvariable kann eine kontinuierliche Variable sein, d. h. eine Variable, die jeden Wert innerhalb eines bestimmten Intervalls annehmen kann (überabzählbar unendlich). Sowohl die diskrete als auch die kontinuierliche Wahrscheinlichkeitsverteilung kann durch statistische Parameter wie den Mittelwert, die Standardabweichung, den Median, den Modalwert und andere beschrieben werden. Diese Parameter, die die Grundgesamtheit beschreiben, sind jedoch **immer konstant**, da die Grundgesamtheit die Menge aller Elemente ist und sich somit die Grundgesamtheitsstatistik nicht ändert. So gibt es beispielsweise für jeden Populationsdatensatz **nur einen Wert** für den Populationsmittelwert, **einen Wert** für die Standardabweichung usw."
   ]
  },
  {
   "cell_type": "markdown",
   "metadata": {},
   "source": [
    "## Grundgesamtheitsstatistiken und Stichprobenstatistiken\n",
    "\n",
    "Betrachten wir ein einfaches Beispiel für eine kleine diskrete Grundgesamtheit, die aus den ersten zehn ganzen Zahlen $\\{1,2,3,4,5,6,7,8,9,10\\}$ besteht."
   ]
  },
  {
   "cell_type": "code",
   "execution_count": 3,
   "metadata": {},
   "outputs": [
    {
     "name": "stdout",
     "output_type": "stream",
     "text": [
      "5.5 3.0276503540974917\n"
     ]
    }
   ],
   "source": [
    "population  = [1,2,3,4,5,6,7,8,9,10]\n",
    "\n",
    "mean = np.mean(population)\n",
    "\n",
    "std = np.std(population, ddof=1)\n",
    "\n",
    "print(mean, std)"
   ]
  },
  {
   "cell_type": "markdown",
   "metadata": {},
   "source": [
    "Der Populationsmittelwert $μ$, und die Populationsstandardabweichung $σ$ beträgt $5,5$ bzw. etwa $3,028$. Es ist wichtig zu erkennen, dass sich diese Parameter, die Populationsparameter, nicht ändern! Sie sind durch die Grundgesamtheit festgelegt.\n",
    "\n",
    "Nehmen wir nun eine Zufallsstichprobe ohne Ersetzung mit dem Umfang $n=3$ aus dieser Grundgesamtheit. "
   ]
  },
  {
   "cell_type": "code",
   "execution_count": 4,
   "metadata": {},
   "outputs": [
    {
     "data": {
      "text/plain": [
       "array([2, 5, 4])"
      ]
     },
     "execution_count": 4,
     "metadata": {},
     "output_type": "execute_result"
    }
   ],
   "source": [
    "my_sample = np.random.choice(population, size = 3, replace=False)\n",
    "\n",
    "my_sample"
   ]
  },
  {
   "cell_type": "markdown",
   "metadata": {},
   "source": [
    "Nun berechnen wir den Mittelwert und die Standardabweichung der gegebenen Stichprobe. Da wir uns aber auf eine bestimmte Stichprobe beziehen, nennen wir den statistischen Parameter diesmal **Stichprobenstatistik** oder, wenn wir uns auf die Verteilung der Werte (Elemente) beziehen, **Stichprobenverteilung**. Um dies zu verdeutlichen, wird der Stichprobenmittelwert mit $\\bar{x}$ und die Stichprobenstandardabweichung mit $s$ bezeichnet."
   ]
  },
  {
   "cell_type": "code",
   "execution_count": 5,
   "metadata": {},
   "outputs": [
    {
     "name": "stdout",
     "output_type": "stream",
     "text": [
      "3.6666666666666665 1.247219128924647\n"
     ]
    }
   ],
   "source": [
    "x_bar = np.mean(my_sample)\n",
    "\n",
    "s_x = np.std(my_sample)\n",
    "\n",
    "print(x_bar, s_x)"
   ]
  },
  {
   "cell_type": "markdown",
   "metadata": {},
   "source": [
    "Bitte beachten Sie, dass sich die Stichprobenstatistiken je nach den tatsächlichen Elementen in der Stichprobe von Stichprobe zu Stichprobe ändern.\n",
    "\n",
    "## Der Stichprobenfehler\n",
    "\n",
    "Wir wiederholen die Stichprobe aus dem vorigen Abschnitt fünfmal, speichern die Ergebnisse in der Variablen <mark> my_experiment </mark> und geben zusätzlich den Mittelwert $\\bar{x}$ für jede einzelne Stichprobe aus."
   ]
  },
  {
   "cell_type": "code",
   "execution_count": 6,
   "metadata": {},
   "outputs": [
    {
     "name": "stdout",
     "output_type": "stream",
     "text": [
      "Sample number 1 has a mean of 6.666666666666667\n",
      "Sample number 2 has a mean of 5.0\n",
      "Sample number 3 has a mean of 5.666666666666667\n",
      "Sample number 4 has a mean of 1.3333333333333333\n",
      "Sample number 5 has a mean of 5.666666666666667\n"
     ]
    }
   ],
   "source": [
    "population  = [1,2,3,4,5,6,7,8,9,10]\n",
    "\n",
    "my_experiment = []\n",
    "\n",
    "for i in range(1,6):\n",
    "    my_sample = np.random.choice(population, size=3)\n",
    "    mean= np.mean(my_sample)\n",
    "    my_experiment.append(mean)\n",
    "    print('Sample number {0} has a mean of {1}'.format(i, mean))"
   ]
  },
  {
   "cell_type": "markdown",
   "metadata": {},
   "source": [
    "Es liegt auf der Hand, dass verschiedene Stichproben (mit derselben Länge), die aus derselben Grundgesamtheit ausgewählt wurden, unterschiedliche Stichprobenstatistiken ergeben, da sie unterschiedliche Elemente enthalten. Darüber hinaus unterscheidet sich jede aus einer Stichprobe gewonnene Stichprobenstatistik, z. B. der Stichprobenmittelwert $\\bar{x}$, von dem Ergebnis, das aus der entsprechenden Grundgesamtheit, dem Grundgesamtheitsmittelwert $μ$, gewonnen wird. Die Differenz zwischen dem Wert einer aus einer Stichprobe gewonnenen Statistik und dem Wert des entsprechenden, aus der Grundgesamtheit gewonnenen Parameters wird als **<a href=\"https://en.wikipedia.org/wiki/Sampling_error\">Stichprobenfehler</a>** bezeichnet. Im Fall des Mittelwerts kann der Stichprobenfehler wie folgt geschrieben werden\n",
    "\n",
    "$$ \\text{Sampling error} = \\bar{x} - \\mu$$\n",
    "\n",
    "Aufgrund des Charakters von Zufallsstichproben und willkürlichen Ziehung einer Reihe von Werten aus der Grundgesamtheit ist der daraus resultierende Stichprobenfehler zufällig, oder anders gesagt, der Stichprobenfehler ist eine Zufallsvariable. Es ist jedoch zu beachten, dass es neben der beschriebenen Zufälligkeit noch andere Fehlerquellen gibt. Diese Fehler hängen oft mit dem Prozess der Datenerzeugung zusammen und werden unter dem Begriff <a href=\"https://en.wikipedia.org/wiki/Non-sampling_error\">Nicht-Stichprobenfehler</a> zusammengefasst. Solche Fehler werden beispielsweise durch die menschliche Handhabung der Daten, Kalibrierungsfehler der Messgeräte etc. verursacht.\n",
    "\n",
    "Um ein Gefühl für die Art des Stichprobenfehlers zu bekommen, führen wir ein Experiment durch. Bei diesem Experiment besteht die interessierende Grundgesamtheit aus den ersten $100$ ganzen Zahlen $\\{1,2,3,...,100\\}$. Wir wollen den Einfluss des Stichprobenumfangs $n$ auf den Stichprobenfehler untersuchen. Der Einfachheit halber wählen wir den Stichprobenmittelwert als die interessierende Statistik. Für eine ausreichend große Anzahl von Versuchen ((<mark> Versuche = 1000 </mark>) berechnen wir den Stichprobenfehler für Stichproben mit dem Umfang $n=10,25,50,75$."
   ]
  },
  {
   "cell_type": "code",
   "execution_count": 7,
   "metadata": {},
   "outputs": [
    {
     "name": "stdout",
     "output_type": "stream",
     "text": [
      "Sampling Error, n=10:  7.255\n",
      "Sampling Error, n=25:  4.56832\n",
      "Sampling Error, n=50:  3.1973599999999998\n",
      "Sampling Error, n=100:  2.36701\n"
     ]
    }
   ],
   "source": [
    "population = list(range(1,101))\n",
    "\n",
    "mean_pop = np.mean(population)\n",
    "\n",
    "error_sample_10 = []\n",
    "error_sample_25 = []\n",
    "error_sample_50 = []\n",
    "error_sample_100 = []\n",
    "\n",
    "# we do 1000 trials\n",
    "for i in range(1,1001):\n",
    "    my_sample_10 = np.random.choice(population, size=10)\n",
    "    my_sample_25 = np.random.choice(population, size=25)\n",
    "    my_sample_50 = np.random.choice(population, size=50)\n",
    "    my_sample_100 = np.random.choice(population, size=100)\n",
    "    \n",
    "    mean_10 = np.mean(my_sample_10)\n",
    "    mean_25 = np.mean(my_sample_25)\n",
    "    mean_50 = np.mean(my_sample_50)\n",
    "    mean_100 = np.mean(my_sample_100)\n",
    "    \n",
    "    error_sample_10.append(abs(mean_10- mean_pop))\n",
    "    error_sample_25.append(abs(mean_25- mean_pop))\n",
    "    error_sample_50.append(abs(mean_50- mean_pop))\n",
    "    error_sample_100.append(abs(mean_100- mean_pop))\n",
    "    \n",
    "print('Sampling Error, n=10: ', np.mean(error_sample_10))\n",
    "print('Sampling Error, n=25: ', np.mean(error_sample_25))\n",
    "print('Sampling Error, n=50: ', np.mean(error_sample_50))\n",
    "print('Sampling Error, n=100: ', np.mean(error_sample_100))"
   ]
  },
  {
   "cell_type": "markdown",
   "metadata": {},
   "source": [
    "Aus dem obigen Experiment können wir schließen, dass der Stichprobenfehler umso kleiner ist, je größer der Stichprobenumfang ist. Mit anderen Worten: Je größer der Stichprobenumfang ist, desto mehr nähert sich der Stichprobenmittelwert $\\bar{x}$ dem Grundgesamtheitsmittelwert $μ$ an. Dies ist eine wichtige Erkenntnis, die im Abschnitt über die *Inferenzstatistik* ausführlicher behandelt werden wird."
   ]
  },
  {
   "cell_type": "markdown",
   "metadata": {},
   "source": [
    "## Die Stichprobenverteilung\n",
    "\n",
    "Ausgehend von unserer Intuition der Zufälligkeit im Stichprobenprozess führen wir die **<a href=\"https://en.wikipedia.org/wiki/Sampling_distribution\">Stichprobenverteilung</a>** ein. Die Stichprobenverteilung ist eine Verteilung einer Stichprobenstatistik *(Lovirc 2010)*. Oft wird der Name der berechneten Statistik als Teil des Titels hinzugefügt. Wenn es sich bei der berechneten Statistik beispielsweise um den Stichprobenmittelwert handelt, würde die Stichprobenverteilung den Titel **Stichprobenverteilung des Stichprobenmittelwerts** tragen.\n",
    "\n",
    "Erinnern wir uns an das einfache Beispiel aus dem vorigen Abschnitt, bei dem die Grundgesamtheit durch die ersten $100$ ganzen Zahlen $\\{ 1,2,3,\\dots,100 \\}$ repräsentiert wurde. Wenn wir wiederholt Stichproben aus dieser Grundgesamtheit ziehen und jedes Mal die Stichprobenstatistik (z. B. $\\bar{x}$ oder $s$,...) berechnen, wird **die resultierende Verteilung der Stichprobenstatistik als Stichprobenverteilung dieser Statistik** bezeichnet.\n",
    "\n",
    "Aus dieser Grundgesamtheit nehmen wir wiederholt Zufallsstichproben $(x)$ ohne Ersetzung mit der Größe $n=30$. Die Zufallsstichproben könnten Mengen erzeugen, die wie folgt aussehen :\n",
    "\n",
    "$$\\{19, 79, 33, 38, 14, 67, 7, 9, 12, 27, 4, 89, 34, 77, 78, 32, 65, 10, 84, 64, 90, 55, 88, 56, 11, 80, 15, 5, 91, 54\\}$$\n",
    "\n",
    "oder\n",
    "\n",
    "$$\\{43, 52, 56, 8, 65, 60, 46, 15, 64, 19, 82, 91, 88, 1, 5, 9, 4, 92, 67, 36, 72, 31, 50, 96, 87, 6, 93, 84, 78, 16\\}$$\n",
    "\n",
    "...\n",
    "\n",
    "Für jede Stichprobe berechnen wir eine Stichprobenstatistik. In diesem Beispiel nehmen wir den Mittelwert, $\\bar{x}$, jeder Stichprobe. Beachten Sie jedoch, dass es sich bei der Stichprobenstatistik um eine beliebige deskriptive Statistik handeln kann, z. B. um den Median, die Standardabweichung, einen Anteil usw. Sobald wir die Stichprobenmittelwerte für alle Stichproben erhalten haben, listen wir alle ihre verschiedenen Werte und die Anzahl ihres Auftretens (Häufigkeiten) auf, um relative Häufigkeiten oder **empirische Wahrscheinlichkeiten** zu erhalten."
   ]
  },
  {
   "cell_type": "code",
   "execution_count": 8,
   "metadata": {},
   "outputs": [
    {
     "name": "stderr",
     "output_type": "stream",
     "text": [
      "C:\\Users\\joe\\anaconda3\\lib\\site-packages\\seaborn\\distributions.py:2619: FutureWarning: `distplot` is a deprecated function and will be removed in a future version. Please adapt your code to use either `displot` (a figure-level function with similar flexibility) or `histplot` (an axes-level function for histograms).\n",
      "  warnings.warn(msg, FutureWarning)\n",
      "C:\\Users\\joe\\anaconda3\\lib\\site-packages\\seaborn\\distributions.py:316: UserWarning: Dataset has 0 variance; skipping density estimate. Pass `warn_singular=False` to disable this warning.\n",
      "  warnings.warn(msg, UserWarning)\n",
      "C:\\Users\\joe\\anaconda3\\lib\\site-packages\\seaborn\\distributions.py:2619: FutureWarning: `distplot` is a deprecated function and will be removed in a future version. Please adapt your code to use either `displot` (a figure-level function with similar flexibility) or `histplot` (an axes-level function for histograms).\n",
      "  warnings.warn(msg, FutureWarning)\n",
      "C:\\Users\\joe\\anaconda3\\lib\\site-packages\\seaborn\\distributions.py:2619: FutureWarning: `distplot` is a deprecated function and will be removed in a future version. Please adapt your code to use either `displot` (a figure-level function with similar flexibility) or `histplot` (an axes-level function for histograms).\n",
      "  warnings.warn(msg, FutureWarning)\n",
      "C:\\Users\\joe\\anaconda3\\lib\\site-packages\\seaborn\\distributions.py:2619: FutureWarning: `distplot` is a deprecated function and will be removed in a future version. Please adapt your code to use either `displot` (a figure-level function with similar flexibility) or `histplot` (an axes-level function for histograms).\n",
      "  warnings.warn(msg, FutureWarning)\n",
      "C:\\Users\\joe\\anaconda3\\lib\\site-packages\\seaborn\\distributions.py:2619: FutureWarning: `distplot` is a deprecated function and will be removed in a future version. Please adapt your code to use either `displot` (a figure-level function with similar flexibility) or `histplot` (an axes-level function for histograms).\n",
      "  warnings.warn(msg, FutureWarning)\n",
      "C:\\Users\\joe\\anaconda3\\lib\\site-packages\\seaborn\\distributions.py:2619: FutureWarning: `distplot` is a deprecated function and will be removed in a future version. Please adapt your code to use either `displot` (a figure-level function with similar flexibility) or `histplot` (an axes-level function for histograms).\n",
      "  warnings.warn(msg, FutureWarning)\n"
     ]
    },
    {
     "data": {
      "image/png": "[encoded data removed]",
      "text/plain": [
       "<Figure size 720x936 with 6 Axes>"
      ]
     },
     "metadata": {},
     "output_type": "display_data"
    }
   ],
   "source": [
    "population = list(range(1,101))\n",
    "\n",
    "mean_pop = np.mean(population)\n",
    "\n",
    "num_samples = [1,10,100,500,1000,3000]\n",
    "\n",
    "my_sample = [[],[],[],[],[],[]]\n",
    "\n",
    "for i in range(0,6):   \n",
    "    for j in range(1, num_samples[i] + 1):\n",
    "        sample = np.random.choice(population, size=25)\n",
    "        mean_sample = np.mean(sample)\n",
    "        my_sample[i].append(mean_sample)\n",
    "\n",
    "sns.set(rc={'figure.figsize':(10,13)})\n",
    "    \n",
    "fig, axs = plt.subplots(3,2)\n",
    "axs[0,0].set_yticklabels('')\n",
    "axs[0,1].set_yticklabels('')\n",
    "axs[1,0].set_yticklabels('')\n",
    "axs[1,1].set_yticklabels('')\n",
    "axs[2,0].set_yticklabels('')\n",
    "axs[2,1].set_yticklabels('')\n",
    "sns.distplot(my_sample[0], ax=axs[0,0])\n",
    "axs[0,0].set_title('1 random samples')\n",
    "axs[0,0].set_xlim(30,70)\n",
    "sns.distplot(my_sample[1], ax=axs[0,1],kde=True, kde_kws={'alpha':0.0})\n",
    "axs[0,1].set_title('10 random samples')\n",
    "axs[0,1].set_xlim(30,70)\n",
    "sns.distplot(my_sample[2], ax=axs[1,0], kde=True, kde_kws={'alpha':0.0})\n",
    "axs[1,0].set_title('100 random samples')\n",
    "axs[1,0].set_xlim(30,70)\n",
    "sns.distplot(my_sample[3], ax=axs[1,1], kde=True, kde_kws={'alpha':0.0})\n",
    "axs[1,1].set_title('500 random samples')\n",
    "axs[1,1].set_xlim(30,70)\n",
    "sns.distplot(my_sample[4], ax=axs[2,0] , kde=True, kde_kws={'alpha':0.0})\n",
    "axs[2,0].set_title('1000 random samples')\n",
    "axs[2,0].set_xlim(30,70)\n",
    "sns.distplot(my_sample[5], ax=axs[2,1], kde=True, kde_kws={'alpha':0.0})\n",
    "axs[2,1].set_title('3000 random samples')\n",
    "axs[2,1].set_xlim(30,70)\n",
    "\n",
    "import warnings\n",
    "warnings.filterwarnings(action='always')\n",
    "\n",
    "pass\n"
   ]
  },
  {
   "cell_type": "markdown",
   "metadata": {},
   "source": [
    "Je häufiger wir eine Stichprobe nehmen, desto besser nähert sich die relative Häufigkeitsverteilung der Stichprobenstatistik der Stichprobenverteilung an. Mit anderen Worten: Wenn die Anzahl der Stichproben gegen unendlich geht, nähert sich die resultierende Häufigkeitsverteilung der Stichprobenverteilung an. **Die Stichprobenverteilung einer Statistik** ist eine Wahrscheinlichkeitsverteilung dieser Statistik, die aus allen möglichen Stichproben mit demselben Umfang aus der Grundgesamtheit abgeleitet wird. Die Stichprobenverteilung sollte jedoch nicht mit einer Verteilung einer Stichprobe verwechselt werden: Letztere beschreibt die Verteilung der Werte (Elemente) in einer bestimmten Stichprobe."
   ]
  },
  {
   "cell_type": "markdown",
   "metadata": {},
   "source": [
    "## Der Standardfehler\n",
    "\n",
    "Ebenso wie die Verteilungen der Grundgesamtheit können auch die Stichprobenverteilungen mit Parametern beschrieben werden. Der Erwartungswert (Mittelwert) einer beliebigen Verteilung kann durch das Symbol $\\mu$ dargestellt werden. Im Falle der Stichprobenverteilung wird der Mittelwert $\\mu$ oft mit einem tiefgestellten Index geschrieben, um anzugeben, welche Stichprobenverteilung beschrieben wird. Der Erwartungswert der Stichprobenverteilung des Mittelwerts wird zum Beispiel durch das Symbol $\\mu_{\\bar{x}}$ dargestellt. Der Wert von $\\mu_{\\bar{x}}$ kann als der theoretische Mittelwert der Verteilung der Stichprobenmittelwerte angesehen werden.\n",
    "\n",
    "Wenn wir aus einer Grundgesamtheit eine ausreichend große Anzahl von Stichproben (mit gleichem Umfang) auswählen und deren Mittelwerte berechnen, dann nähert sich der Mittelwert ($\\mu_{\\bar{x}}$) all dieser Stichprobenmittelwerte dem Mittelwert ($\\mu$) der Grundgesamtheit an. Deshalb wird der Stichprobenmittelwert $\\bar{x}$ als Schätzer des Populationsmittelwertes $\\mu$ bezeichnet. Somit ist der Mittelwert der Stichprobenverteilung gleich dem Mittelwert der Grundgesamtheit.\n",
    "\n",
    "$$\\mu_{\\bar{x}} = \\mu$$\n",
    "\n",
    "Für die Standardabweichung einer Stichprobenverteilung gibt es eine besondere Bezeichnung, den **<a href=\"https://en.wikipedia.org/wiki/Standard_error\">Standardfehler</a>**. Der Standardfehler der Stichprobenverteilung einer Statistik, bezeichnet als $\\sigma_{\\bar{x}}$, beschreibt das Ausmaß, in dem die berechneten Statistiken erwartungsgemäß voneinander abweichen, wenn sie anhand einer Stichprobe ähnlichen Umfangs berechnet und aus ähnlichen Grundgesamtheitsmodellen ausgewählt werden. Je größer der Standardfehler einer bestimmten Statistik ist, desto größer sind die Unterschiede zwischen den berechneten Statistiken für die verschiedenen Stichproben *(Lovric 2010)*.\n",
    "\n",
    "Es ist jedoch zu beachten, dass der Standardfehler $\\sigma_{\\bar{x}}$ nicht gleich der Standardabweichung $\\sigma$ der Verteilung der Grundgesamtheit ist (es sei denn, $n=1$). Der Standardfehler ist gleich der Standardabweichung der Grundgesamtheit geteilt durch die Quadratwurzel des Stichprobenumfangs :\n",
    "\n",
    "$$\\sigma_{\\bar{x}} = \\frac{\\sigma}{\\sqrt{n}}$$\n",
    "\n",
    "Diese Gleichung gilt nur, wenn die Stichprobe entweder mit Ersatz aus einer endlichen Grundgesamtheit oder mit oder ohne Ersatz aus einer unendlichen Grundgesamtheit gezogen wird. Dies entspricht der Bedingung, dass der Stichprobenumfang $(n)$ im Vergleich zum Grundgesamtheitsumfang $(N)$ klein ist. Der Stichprobenumfang gilt als klein im Vergleich zum Umfang der Grundgesamtheit, wenn der Stichprobenumfang gleich oder weniger als 5 % des Umfangs der Grundgesamtheit ist, d. h., wenn\n",
    "\n",
    "$$\\frac{n}{N} \\leq 0.05$$\n",
    "\n",
    "Wenn diese Bedingung nicht erfüllt ist, wird die folgende Gleichung zur Berechnung von $\\sigma_{\\bar{x}}$ verwendet :\n",
    "\n",
    "$$\\sigma_{\\bar{x}} = \\frac{\\sigma}{\\sqrt{n}} \\sqrt{\\frac{N-n}{N-1}}$$\n",
    "\n",
    "In den meisten praktischen Anwendungen ist der Stichprobenumfang jedoch klein im Vergleich zur Grundgesamtheit."
   ]
  },
  {
   "cell_type": "markdown",
   "metadata": {},
   "source": [
    "## Stichproben aus einer normalverteilten Grundgesamtheit\n",
    "\n",
    "### Form der Stichprobenverteilung\n",
    "\n",
    "Die Form der Stichprobenverteilung bezieht sich auf die beiden folgenden Fälle :\n",
    "\n",
    "1. Die Grundgesamtheit, aus der die Stichproben gezogen werden, ist normalverteilt.\n",
    "\n",
    "2. Die Grundgesamtheit, aus der die Stichproben gezogen werden, ist nicht normalverteilt.\n",
    "\n",
    "### Stichproben aus einer normalverteilten Grundgesamtheit\n",
    "\n",
    "Wenn die Grundgesamtheit, aus der die Stichproben gezogen werden, normalverteilt ist und ihr Mittelwert gleich $\\mu$ und ihre Standardabweichung gleich $\\sigma$ ist, dann gilt :\n",
    "\n",
    "1. Der Mittelwert der Stichprobenmittel, $\\mu_{\\bar{x}}$, ist gleich dem Mittelwert der Grundgesamtheit, $\\mu$\n",
    "\n",
    "2. Die Standardabweichung der Stichprobenmittelwerte,$\\sigma_{\\bar{x}}$\n",
    "ist gleich $\\frac{\\sigma}{\\sqrt{n}}$, wobei $\\frac{n}{N} ≤ 0.05$ angenommen wird.\n",
    "\n",
    "3. Die Form der Stichprobenverteilung der Stichprobenmittelwerte $\\bar{x}$\n",
    "ist normal, unabhängig vom Wert von $n$.\n",
    "\n",
    "Betrachten wir eine normalverteilte Grundgesamtheit. Der Einfachheit halber verwenden wir die Standardnormalverteilung, $N∼(\\mu,\\sigma)$, mit $\\mu=0$ und $\\sigma=1$. Berechnen wir nun $\\mu_{\\bar{x}}$ und $\\sigma_{\\bar{x}}$ für Stichproben mit dem Stichprobenumfang $n=5,15,30,50$.\n",
    "\n",
    "Es sei daran erinnert, dass für eine hinreichend große Anzahl wiederholter Stichproben $\\mu_{\\bar{x}}≈\\mu$. Somit $\\mu_{\\bar{x}}$ der verschiedenen betrachteten Stichprobenverteilungen :\n",
    "\n",
    "$$\\mu_{\\bar x_{n=5}} = \\mu_{\\bar x_{n=15}} = \\mu_{\\bar x_{n=30}} = \\mu_{\\bar x_{n=50}} = \\mu = 0$$\n",
    "\n",
    "Wir erinnern uns an den Standardfehler der Stichprobenverteilung $\\sigma_{\\bar{x}}=\\frac{\\sigma}{\\sqrt{n}}$. Wir können also $\\sigma_{\\bar{x}}$ für $n=5,15,30,50$ Elemente leicht berechnen. Die verschiedenen Stichprobenverteilungen werden im Folgenden visualisiert.\n",
    "\n",
    "$$\\sigma_{\\bar x_{n=5}} = \\frac{\\sigma}{\\sqrt{n}} = \\frac{1}{\\sqrt{5}}\\approx 0.447$$\n",
    "\n",
    "$$ \\sigma_{\\bar x_{n=15}} = \\frac{\\sigma}{\\sqrt{n}} = \\frac{1}{\\sqrt{15}}\\approx 0.258 $$\n",
    "\n",
    "$$ \\sigma_{\\bar x_{n=30}} = \\frac{\\sigma}{\\sqrt{n}} = \\frac{1}{\\sqrt{30}}\\approx 0.183 $$\n",
    "\n",
    "$$ \\sigma_{\\bar x_{n=50}} = \\frac{\\sigma}{\\sqrt{n}} = \\frac{1}{\\sqrt{50}} \\approx 0.141 $$\n",
    "\n",
    "![sampling_distribution_norm](_img/sampling_distribution_norm.png)\n",
    "\n",
    "Es gibt zwei wichtige Beobachtungen bezüglich der Stichprobenverteilung von $\\bar{x}$\n",
    "\n",
    "1. Die Streuung der Stichprobenverteilung ist kleiner als die Streuung der entsprechenden Grundgesamtheitsverteilung. Mit anderen Worten: $\\sigma_{\\bar{x}}<\\sigma$\n",
    "\n",
    "2. Die Standardabweichung der Stichprobenverteilung nimmt mit zunehmendem Stichprobenumfang ab.\n",
    "\n",
    "Um die 3. Behauptung von oben, dass die Form der Stichprobenverteilung von $\\bar{x}$ unabhängig vom Wert von $n$ normal ist, zu überprüfen, führen wir eine numerische Simulation durch. Für eine ausreichend große Anzahl von Versuchen (Versuche = 1000) ziehen wir Stichproben aus der Standardnormalverteilung $N∼(\\mu=0,\\sigma=1)$, wobei jede einzelne Stichprobe einen Stichprobenumfang von $n=5,15,30,50$ hat. Für jede Stichprobe berechnen wir den Stichprobenmittelwert $\\bar{x}$ und stellen die empirischen Wahrscheinlichkeiten dar. Anschließend vergleichen wir die empirische Verteilung dieser Wahrscheinlichkeiten mit den aus den obigen Gleichungen berechneten Stichprobenverteilungen.\n",
    "\n",
    "![sampling_diff_n](_img/sampling_diff_n.png)\n",
    "\n",
    "Die Abbildung verifiziert die 3. Behauptung von oben: Die Form der Stichprobenverteilung von $\\bar{x}$ ist für jeden Wert von $n$ normal.\n",
    "\n",
    "Darüber hinaus zeigt die Abbildung, dass die Verteilung der empirischen Wahrscheinlichkeiten (Balken) gut mit der Stichprobenverteilung (farbige Linie) übereinstimmt und dass die Standardabweichung der Stichprobenverteilung von $\\bar{x}$ mit zunehmendem Stichprobenumfang abnimmt. Es sei daran erinnert, dass die $y$-Achse die *Dichte* darstellt, d. h. die **Wahrscheinlichkeit pro Einheitswert** der Zufallsvariablen. Aus diesem Grund kann die Wahrscheinlichkeitsdichte einen Wert größer als 1 annehmen, aber nur über einen Bereich mit einer Größe kleiner als 1."
   ]
  },
  {
   "cell_type": "markdown",
   "metadata": {},
   "source": [
    "## Stichproben aus einer nicht normalverteilten Grundgesamtheit\n",
    "\n",
    "### Form der Stichprobenverteilung\n",
    "\n",
    "Die Form der Stichprobenverteilung bezieht sich auf die beiden folgenden Fälle.\n",
    "\n",
    "1. Die Grundgesamtheit, aus der die Stichproben gezogen werden, ist normalverteilt.\n",
    "\n",
    "2. Die Grundgesamtheit, aus der die Stichproben gezogen werden, ist nicht normalverteilt.\n",
    "\n",
    "### Stichproben aus einer nicht normalverteilten Grundgesamtheit\n",
    "\n",
    "Im vorangegangenen Abschnitt haben wir die Form von Stichprobenverteilungen erörtert, wenn eine Stichprobe aus einer normalverteilten Grundgesamtheit gezogen wird. In realen Anwendungen kennen wir jedoch oft nicht die tatsächliche Form der Grundgesamtheit.\n",
    "\n",
    "Um zu verstehen, wie die Form der Verteilung der interessierenden Grundgesamtheit die Form der Stichprobenverteilung beeinflusst, führen wir ein Experiment durch. Wir betrachten drei verschiedene kontinuierliche Wahrscheinlichkeitsdichtefunktionen: die **Gleichverteilung**, die **Beta-Verteilung** und die **Gamma-Verteilung**. Wir gehen hier nicht ins Detail, aber die folgende Abbildung zeigt, dass diese drei PDF´s (Probability Density Functions) nicht normalverteilt sind.\n",
    "\n",
    "![uniform_beta_gamma](_img/uniform_beta_gamma.png)\n",
    "\n",
    "Nun führen wir das gleiche Experiment wie im vorherigen Abschnitt durch. Für eine ausreichend große Anzahl von Versuchen <mark>Versuche = 1000 </mark> ziehen wir aus jeder einzelnen Verteilung eine Stichprobe. Diesmal hat jedoch jede einzelne Stichprobe einen Stichprobenumfang $n=2,5,15,30$. Für jede Stichprobe berechnen wir den Stichprobenmittelwert $\\bar{x}$ und stellen die empirischen Wahrscheinlichkeiten nach $1000$ Versuchen dar.\n",
    "\n",
    "![sampling_beta_gamma_uniform](_img/sampling_beta_gamma_uniform.png)\n",
    "\n",
    "Die Abbildung zeigt, dass im Falle einer nicht normalverteilten Grundgesamtheit die Stichprobenverteilungen nicht normalverteilt sind, wenn $n<30$. Allerdings nähern sich die Stichprobenverteilungen einer Normalverteilung an, wenn $n>30$. Man sieht auch, dass die Streuung der Stichprobenverteilung mit zunehmendem Stichprobenumfang abnimmt."
   ]
  },
  {
   "cell_type": "markdown",
   "metadata": {},
   "source": [
    "Nach dem **zentralen Grenzwertsatz** ist die Stichprobenverteilung bei einem großen Stichprobenumfang $(n > 30)$ annähernd normal, unabhängig von der Form der Grundgesamtheitsverteilung.\n",
    "\n",
    "Der Mittelwert und die Standardabweichung der Stichprobenverteilung von $\\bar{x}$ sind jeweils,\n",
    "\n",
    "$$ \\mu_{\\bar{x}} = \\mu \\text{ und } \\sigma_{\\bar{x}} = \\frac{\\sigma}{\\sqrt{n}}$$\n",
    "\n",
    "Der Stichprobenumfang wird gewöhnlich als groß angesehen, wenn $n \\geq 30$ ist.\n",
    "\n",
    "Da die Stichprobenverteilung eine Normalverteilung approximiert, liefert die Fläche unter der Kurve der Stichprobenverteilung probabilistische Informationen über die Stichprobenstatistik.\n",
    "\n",
    "Erinnern Sie sich an die **empirische Regel**, auch bekannt als die **68-95-99,7-Regel**. Auf die Stichprobenverteilung angewandt bedeutet die $68-95-99,7$-Regel folglich, dass\n",
    "\n",
    "- etwa $68,26$% der Stichprobenmittelwerte innerhalb einer Standardabweichung des Populationsmittelwerts liegen werden,\n",
    "\n",
    "- $95,44$% der Stichprobenmittelwerte innerhalb von zwei Standardabweichungen des Populationsmittelwertes liegen und\n",
    "\n",
    "- etwa $99,74$% der Stichprobenmittelwerte innerhalb von drei Standardabweichungen des Mittelwerts der Grundgesamtheit liegen."
   ]
  },
  {
   "cell_type": "code",
   "execution_count": null,
   "metadata": {},
   "outputs": [],
   "source": []
  }
 ],
 "metadata": {
  "kernelspec": {
   "display_name": "Python 3 (ipykernel)",
   "language": "python",
   "name": "python3"
  },
  "language_info": {
   "codemirror_mode": {
    "name": "ipython",
    "version": 3
   },
   "file_extension": ".py",
   "mimetype": "text/x-python",
   "name": "python",
   "nbconvert_exporter": "python",
   "pygments_lexer": "ipython3",
   "version": "3.9.7"
  }
 },
 "nbformat": 4,
 "nbformat_minor": 4
}
